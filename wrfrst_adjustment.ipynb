{
 "cells": [
  {
   "cell_type": "code",
   "execution_count": 1,
   "id": "67d4c96b",
   "metadata": {},
   "outputs": [],
   "source": [
    "\"\"\"\n",
    "Script for reading in WRF met_em files and editing SST\n",
    "\"\"\"\n",
    "import xarray as xr\n",
    "import numpy as np\n",
    "import glob\n",
    "import matplotlib.pyplot as plt"
   ]
  },
  {
   "cell_type": "code",
   "execution_count": 2,
   "id": "7a366e2a",
   "metadata": {},
   "outputs": [
    {
     "data": {
      "text/plain": [
       "'3.9.12'"
      ]
     },
     "execution_count": 2,
     "metadata": {},
     "output_type": "execute_result"
    }
   ],
   "source": [
    "from platform import python_version\n",
    "\n",
    "python_version()"
   ]
  },
  {
   "cell_type": "code",
   "execution_count": 3,
   "id": "cd640921",
   "metadata": {},
   "outputs": [],
   "source": [
    "file_paths    = glob.glob(\"/Users/cameronmasiello/Desktop/WRF_RUNS/Dean_wrfrst_adjustment/wrfrst*\") #get all of the met_em files needed\n",
    "new_file_path = \"/Users/cameronmasiello/Desktop/WRF_RUNS/Dean_wrfrst_adjustment/New_adjustments/\"   #Output directory"
   ]
  },
  {
   "cell_type": "code",
   "execution_count": 4,
   "id": "8caf6fd8",
   "metadata": {},
   "outputs": [
    {
     "name": "stdout",
     "output_type": "stream",
     "text": [
      "['2007-08-21T00:00:00.000000000']\n",
      "['2007-08-21T00:00:00.000000000']\n"
     ]
    }
   ],
   "source": [
    "for i in range(len(file_paths)):\n",
    "    with xr.open_dataset(file_paths[i]) as ds:\n",
    "        file_name = file_paths[i][63:]                       #You'll have to edit this: getting just the filename, cutting off the rest of the path\n",
    "        times = ds['Times'].values\n",
    "        times_new = b'2007-08-20_12:00:00'\n",
    "        times_new_list = []\n",
    "        ds['Times'].values = times_new\n",
    "        ds['XTIME'] = ['2007-08-20T12:00:00.000000000']       #Overwrite existing data with time we want\n",
    "    ds.to_netcdf(path = new_file_path + file_name, mode = 'w',format = \"NETCDF4\")"
   ]
  },
  {
   "cell_type": "code",
   "execution_count": 5,
   "id": "db4111b6",
   "metadata": {},
   "outputs": [
    {
     "name": "stdout",
     "output_type": "stream",
     "text": [
      "XTIME: ['2007-08-20T12:00:00.000000000']\n",
      "Times: [b'2007-08-20_12:00:00']\n",
      "XTIME: ['2007-08-20T12:00:00.000000000']\n",
      "Times: [b'2007-08-20_12:00:00']\n"
     ]
    }
   ],
   "source": [
    "file_paths    = glob.glob(\"/Users/cameronmasiello/Desktop/WRF_RUNS/Dean_wrfrst_adjustment/New_Adjustments/*\")\n",
    "for i in range(len(file_paths)):\n",
    "    with xr.open_dataset(file_paths[i]) as ds:\n",
    "        file_name = file_paths[i][63:] #You'll have to edit this: getting just the filename, cutting off the rest of the path\n",
    "        time_xtime = ds['XTIME'].values\n",
    "        time_times = ds['Times'].values\n",
    "        print(\"XTIME:\",time_xtime)\n",
    "        print(\"Times:\",time_times)"
   ]
  }
 ],
 "metadata": {
  "kernelspec": {
   "display_name": "Python 3 (ipykernel)",
   "language": "python",
   "name": "python3"
  },
  "language_info": {
   "codemirror_mode": {
    "name": "ipython",
    "version": 3
   },
   "file_extension": ".py",
   "mimetype": "text/x-python",
   "name": "python",
   "nbconvert_exporter": "python",
   "pygments_lexer": "ipython3",
   "version": "3.9.13"
  }
 },
 "nbformat": 4,
 "nbformat_minor": 5
}
